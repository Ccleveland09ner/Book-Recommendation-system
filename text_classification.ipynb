{
 "cells": [
  {
   "cell_type": "code",
   "execution_count": null,
   "id": "c57987f0",
   "metadata": {},
   "outputs": [],
   "source": [
    "import pandas as pd\n",
    "\n",
    "books = pd.read_csv(\"books_cleaned.csv\")"
   ]
  },
  {
   "cell_type": "code",
   "execution_count": null,
   "id": "f5da7e75",
   "metadata": {},
   "outputs": [],
   "source": [
    "catergory_mapping = {\n",
    "    \"Fiction\": \"Fiction\",\n",
    "    \"Juvenile Fiction\": \"Children's Fiction\",\n",
    "    \"Biography & Autobiography\": \"Nonfiction\",\n",
    "    \"History\": \"Nonfiction\",\n",
    "    \"Litrary Criticism\": \"Nonfiction\",\n",
    "    \"Philosophy\": \"Nonfiction\",\n",
    "    \"Religion\": \"Nonfiction\",\n",
    "    \"Comics & Graphic Novels\": \"Fiction\",\n",
    "    \"Drama\": \"Fiction\",\n",
    "    \"Juvenile Nonfiction\": \"Children's Nonfiction\",\n",
    "    \"Science\": \"Nonfiction\",\n",
    "    \"Poetry\": \"Fiction\",    \n",
    "}\n",
    "\n",
    "books[\"simple_categories\"] = books[\"categories\"].map(catergory_mapping)"
   ]
  },
  {
   "cell_type": "code",
   "execution_count": null,
   "id": "07d03267",
   "metadata": {},
   "outputs": [],
   "source": [
    "from transformers import pipeline\n",
    "\n",
    "fiction_categories = [\"Fiction\", \"Nonfiction\", \"Children's Fiction\", \"Children's Nonfiction\"]\n",
    "\n",
    "pipe = pipeline(\"zero-shot-classification\", model=\"facebook/bart-large-mnli\")"
   ]
  },
  {
   "cell_type": "code",
   "execution_count": null,
   "id": "97f561d6",
   "metadata": {},
   "outputs": [],
   "source": [
    "sequence = books.loc[books[\"simple_categories\"] == \"Fiction\", \"description\"].reset_index(drop=True)[0]"
   ]
  },
  {
   "cell_type": "code",
   "execution_count": null,
   "id": "1eff487f",
   "metadata": {},
   "outputs": [],
   "source": [
    "pipe(sequence, fiction_categories)"
   ]
  }
 ],
 "metadata": {
  "kernelspec": {
   "display_name": ".venv",
   "language": "python",
   "name": "python3"
  },
  "language_info": {
   "codemirror_mode": {
    "name": "ipython",
    "version": 3
   },
   "file_extension": ".py",
   "mimetype": "text/x-python",
   "name": "python",
   "nbconvert_exporter": "python",
   "pygments_lexer": "ipython3",
   "version": "3.12.5"
  }
 },
 "nbformat": 4,
 "nbformat_minor": 5
}
