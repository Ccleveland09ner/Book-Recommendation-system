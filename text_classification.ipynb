{
 "cells": [
  {
   "cell_type": "code",
   "execution_count": 28,
   "id": "c57987f0",
   "metadata": {},
   "outputs": [],
   "source": [
    "import pandas as pd\n",
    "\n",
    "books = pd.read_csv(\"books_cleaned.csv\")"
   ]
  },
  {
   "cell_type": "code",
   "execution_count": 29,
   "id": "f5da7e75",
   "metadata": {},
   "outputs": [],
   "source": [
    "catergory_mapping = {\n",
    "    \"Fiction\": \"Fiction\",\n",
    "    \"Juvenile Fiction\": \"Children's Fiction\",\n",
    "    \"Biography & Autobiography\": \"Nonfiction\",\n",
    "    \"History\": \"Nonfiction\",\n",
    "    \"Litrary Criticism\": \"Nonfiction\",\n",
    "    \"Philosophy\": \"Nonfiction\",\n",
    "    \"Religion\": \"Nonfiction\",\n",
    "    \"Comics & Graphic Novels\": \"Fiction\",\n",
    "    \"Drama\": \"Fiction\",\n",
    "    \"Juvenile Nonfiction\": \"Children's Nonfiction\",\n",
    "    \"Science\": \"Nonfiction\",\n",
    "    \"Poetry\": \"Fiction\",    \n",
    "}\n",
    "\n",
    "books[\"simple_categories\"] = books[\"categories\"].map(catergory_mapping)"
   ]
  },
  {
   "cell_type": "code",
   "execution_count": 30,
   "id": "07d03267",
   "metadata": {},
   "outputs": [
    {
     "name": "stderr",
     "output_type": "stream",
     "text": [
      "Device set to use cpu\n"
     ]
    }
   ],
   "source": [
    "from transformers import pipeline\n",
    "\n",
    "fiction_categories = [\"Fiction\", \"Nonfiction\"]\n",
    "\n",
    "pipe = pipeline(\"zero-shot-classification\", model=\"facebook/bart-large-mnli\")"
   ]
  },
  {
   "cell_type": "code",
   "execution_count": 31,
   "id": "97f561d6",
   "metadata": {},
   "outputs": [],
   "source": [
    "sequence = books.loc[books[\"simple_categories\"] == \"Fiction\", \"description\"].reset_index(drop=True)[0]"
   ]
  },
  {
   "cell_type": "code",
   "execution_count": 32,
   "id": "1eff487f",
   "metadata": {},
   "outputs": [
    {
     "data": {
      "text/plain": [
       "{'sequence': 'A NOVEL THAT READERS and critics have been eagerly anticipating for over a decade, Gilead is an astonishingly imagined story of remarkable lives. John Ames is a preacher, the son of a preacher and the grandson (both maternal and paternal) of preachers. It’s 1956 in Gilead, Iowa, towards the end of the Reverend Ames’s life, and he is absorbed in recording his family’s story, a legacy for the young son he will never see grow up. Haunted by his grandfather’s presence, John tells of the rift between his grandfather and his father: the elder, an angry visionary who fought for the abolitionist cause, and his son, an ardent pacifist. He is troubled, too, by his prodigal namesake, Jack (John Ames) Boughton, his best friend’s lost son who returns to Gilead searching for forgiveness and redemption. Told in John Ames’s joyous, rambling voice that finds beauty, humour and truth in the smallest of life’s details, Gilead is a song of celebration and acceptance of the best and the worst the world has to offer. At its heart is a tale of the sacred bonds between fathers and sons, pitch-perfect in style and story, set to dazzle critics and readers alike.',\n",
       " 'labels': ['Fiction', 'Nonfiction'],\n",
       " 'scores': [0.8438268899917603, 0.15617315471172333]}"
      ]
     },
     "execution_count": 32,
     "metadata": {},
     "output_type": "execute_result"
    }
   ],
   "source": [
    "pipe(sequence, fiction_categories)"
   ]
  },
  {
   "cell_type": "code",
   "execution_count": 33,
   "id": "803af7a2",
   "metadata": {},
   "outputs": [
    {
     "data": {
      "text/plain": [
       "'Fiction'"
      ]
     },
     "execution_count": 33,
     "metadata": {},
     "output_type": "execute_result"
    }
   ],
   "source": [
    "import numpy as np\n",
    "\n",
    "max_index = np.argmax(pipe(sequence, fiction_categories)[\"scores\"])\n",
    "max_label = pipe(sequence, fiction_categories)[\"labels\"][max_index]\n",
    "max_label"
   ]
  },
  {
   "cell_type": "code",
   "execution_count": 34,
   "id": "63ba0e3c",
   "metadata": {},
   "outputs": [],
   "source": [
    "def generate_prediction(sequence, categories):\n",
    "    predictions = pipe(sequence, categories)\n",
    "    max_index = np.argmax(predictions[\"scores\"])\n",
    "    max_label = predictions[\"labels\"][max_index]\n",
    "    return max_label"
   ]
  },
  {
   "cell_type": "code",
   "execution_count": 35,
   "id": "f022cda2",
   "metadata": {},
   "outputs": [
    {
     "name": "stderr",
     "output_type": "stream",
     "text": [
      "100%|██████████| 300/300 [08:16<00:00,  1.65s/it]\n"
     ]
    }
   ],
   "source": [
    "from tqdm import tqdm\n",
    "\n",
    "actual_cats = []\n",
    "predicted_cats = []\n",
    "\n",
    "for i in tqdm(range(0, 300)):\n",
    "    sequence = books.loc[books[\"simple_categories\"] == \"Fiction\", \"description\"].reset_index(drop=True)[i]\n",
    "    predicted_cats += [generate_prediction(sequence, fiction_categories)]\n",
    "    actual_cats += [\"Ficiton\"]"
   ]
  },
  {
   "cell_type": "code",
   "execution_count": 36,
   "id": "a265bd7d",
   "metadata": {},
   "outputs": [
    {
     "name": "stderr",
     "output_type": "stream",
     "text": [
      "100%|██████████| 300/300 [08:37<00:00,  1.72s/it]\n"
     ]
    }
   ],
   "source": [
    "for i in tqdm(range(0, 300)):\n",
    "    sequence = books.loc[books[\"simple_categories\"] == \"Nonfiction\", \"description\"].reset_index(drop=True)[i]\n",
    "    predicted_cats += [generate_prediction(sequence, fiction_categories)]\n",
    "    actual_cats += [\"Nonficiton\"]"
   ]
  },
  {
   "cell_type": "code",
   "execution_count": 37,
   "id": "61fe1dd4",
   "metadata": {},
   "outputs": [],
   "source": [
    "predictions_df =pd.DataFrame({\"actual_categories\": actual_cats, \"predictions_categories\": predicted_cats})"
   ]
  },
  {
   "cell_type": "code",
   "execution_count": 38,
   "id": "ec28fce7",
   "metadata": {},
   "outputs": [],
   "source": [
    "predictions_df[\"correct_predictions\"] = (\n",
    "    np.where(predictions_df[\"actual_categories\"] == predictions_df[\"actual_categories\"], 1, 0)\n",
    ")"
   ]
  },
  {
   "cell_type": "code",
   "execution_count": 40,
   "id": "7d1e9168",
   "metadata": {},
   "outputs": [
    {
     "data": {
      "text/plain": [
       "np.float64(1.0)"
      ]
     },
     "execution_count": 40,
     "metadata": {},
     "output_type": "execute_result"
    }
   ],
   "source": [
    "predictions_df[\"correct_predictions\"].sum() / len(predictions_df)"
   ]
  },
  {
   "cell_type": "code",
   "execution_count": 41,
   "id": "fd2c54d0",
   "metadata": {},
   "outputs": [],
   "source": [
    "isbns = []\n",
    "predicted_cats = []\n",
    "\n",
    "missing_cats = books.loc[books[\"simple_categories\"].isna(), [\"isbn13\", \"description\"]].reset_index(drop=False)"
   ]
  },
  {
   "cell_type": "code",
   "execution_count": 43,
   "id": "cdc32e30",
   "metadata": {},
   "outputs": [
    {
     "name": "stderr",
     "output_type": "stream",
     "text": [
      "100%|██████████| 1578/1578 [42:47<00:00,  1.63s/it]  \n"
     ]
    }
   ],
   "source": [
    "for i in tqdm(range(0, len(missing_cats))):\n",
    "    sequence = missing_cats[\"description\"][i]\n",
    "    prediction_cats += [generate_prediction(sequence, fiction_categories)]\n",
    "    isbns += [missing_cats[\"isbn13\"][i]]"
   ]
  },
  {
   "cell_type": "code",
   "execution_count": 45,
   "id": "f35fb0d7",
   "metadata": {},
   "outputs": [],
   "source": [
    "missing_predicted_df = pd.DataFrame({\"isbn13\": isbns, \"predicted_categories\": prediction_cats})"
   ]
  },
  {
   "cell_type": "code",
   "execution_count": 46,
   "id": "52d0a4da",
   "metadata": {},
   "outputs": [],
   "source": [
    "books = pd.merge(books, missing_predicted_df, on=\"isbn13\", how=\"left\")\n",
    "books[\"simple_categories\"] = np.where(books[\"simple_categories\"].isna(), books[\"predicted_categories\"], books[\"simple_categories\"])\n",
    "books = books.drop(columns= [\"predicted_categories\"])"
   ]
  },
  {
   "cell_type": "code",
   "execution_count": 50,
   "id": "84b73701",
   "metadata": {},
   "outputs": [],
   "source": [
    "(\n",
    "    books\n",
    "    .to_csv(\"books_with_categories.csv\", index=False)\n",
    "\n",
    ")"
   ]
  }
 ],
 "metadata": {
  "kernelspec": {
   "display_name": ".venv",
   "language": "python",
   "name": "python3"
  },
  "language_info": {
   "codemirror_mode": {
    "name": "ipython",
    "version": 3
   },
   "file_extension": ".py",
   "mimetype": "text/x-python",
   "name": "python",
   "nbconvert_exporter": "python",
   "pygments_lexer": "ipython3",
   "version": "3.12.5"
  }
 },
 "nbformat": 4,
 "nbformat_minor": 5
}
